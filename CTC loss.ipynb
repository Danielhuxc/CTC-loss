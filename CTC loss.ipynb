{
 "cells": [
  {
   "cell_type": "markdown",
   "id": "e76ece73",
   "metadata": {},
   "source": [
    "### numpy implementation of Connectionist Temporal Classification (https://www.cs.toronto.edu/~graves/icml_2006.pdf)"
   ]
  },
  {
   "cell_type": "code",
   "execution_count": 1,
   "id": "45c4a845",
   "metadata": {},
   "outputs": [],
   "source": [
    "import numpy as np"
   ]
  },
  {
   "cell_type": "markdown",
   "id": "56730572",
   "metadata": {},
   "source": [
    "create some test input"
   ]
  },
  {
   "cell_type": "code",
   "execution_count": 3,
   "id": "f73adbb7",
   "metadata": {},
   "outputs": [],
   "source": [
    "logits = np.array([[-0.1063757 ,  0.86675691,  0.42268333,  0.9100397 ],\n",
    "                   [ 1.66946294, -0.1009918 , -0.05339809,  0.18738931],\n",
    "                   [-0.56614544,  0.2582804 , -1.50399211, -0.05561591],\n",
    "                   [ 0.07700631, -1.3008013 , -0.78838889,  0.21257662],\n",
    "                   [-1.1350321 , -0.21027041, -0.57139345, -0.93812239],\n",
    "                   [ 1.28395484,  0.72440664,  1.43311044, -0.71667425],\n",
    "                   [ 1.29279426,  0.59313199,  0.4500655 ,  2.0559043 ],\n",
    "                   [ 0.19267242, -1.18393113,  0.5355136 , -0.85880894],\n",
    "                   [-0.74923177,  1.56242967, -0.74563585,  0.7803211 ],\n",
    "                   [-0.18403769, -1.55432081, -0.73049657,  0.48370142]])\n",
    "\n",
    "vocab = ['a','b','c','=']\n",
    "blank = '='\n",
    "idx_to_char = vocab\n",
    "char_to_idx = dict()\n",
    "for i in range(len(idx_to_char)):\n",
    "    char_to_idx[idx_to_char[i]] = i\n",
    "blank_idx = char_to_idx[blank]\n",
    "\n",
    "label = 'accac'"
   ]
  },
  {
   "cell_type": "code",
   "execution_count": 6,
   "id": "d9b2174e",
   "metadata": {},
   "outputs": [],
   "source": [
    "def pad_label(label):\n",
    "    return '='+'='.join(label)+'='"
   ]
  },
  {
   "cell_type": "code",
   "execution_count": 7,
   "id": "24f0516e",
   "metadata": {},
   "outputs": [],
   "source": [
    "def forward_backward(logits,label):\n",
    "    padded_label = pad_label(label)\n",
    "    num_t = logits.shape[0]\n",
    "    num_s = len(padded_label)\n",
    "    \n",
    "    alpha = np.zeros((num_t,num_s))\n",
    "    def forward(t,s):\n",
    "        current_score = logits[t, char_to_idx[padded_label[s]]]\n",
    "        \n",
    "        #initialization of alpha matrix\n",
    "        if t == 0:\n",
    "            if s == 0:\n",
    "                return logits[0, blank_idx]\n",
    "            elif s == 1:\n",
    "                return logits[0, char_to_idx[padded_label[s]]]\n",
    "            else:\n",
    "                return 0 \n",
    "        \n",
    "        # equation 6 & 7\n",
    "        prev_score = alpha[t-1, s]\n",
    "        if s > 0:\n",
    "            prev_score += alpha[t-1, s-1]\n",
    "        if padded_label[s] != blank and (s < 2 or padded_label[s] != padded_label[s-2]):\n",
    "            if s-2 >= 0:\n",
    "                prev_score += alpha[t-1, s-2]\n",
    "        return prev_score * current_score\n",
    "                \n",
    "    for t in range(num_t):\n",
    "        for s in range(num_s):\n",
    "            alpha[t, s] = forward(t, s)\n",
    "    \n",
    "    beta = np.zeros((num_t,num_s))\n",
    "    def backward(t,s):\n",
    "        current_score = logits[t, char_to_idx[padded_label[s]]]\n",
    "        \n",
    "        #initialization of beta matrix\n",
    "        if t == num_t-1:\n",
    "            if s == num_s-1:\n",
    "                return logits[-1, blank_idx]\n",
    "            elif s == num_s-2:\n",
    "                return current_score\n",
    "            else:\n",
    "                return 0\n",
    "        \n",
    "        # equation 10 & 11\n",
    "        next_score = beta[t+1,s]\n",
    "        if s < num_s-1:\n",
    "            next_score += beta[t+1,s+1]\n",
    "        if padded_label[s] != blank and (s > num_s-3 or padded_label[s] != padded_label[s+2]):\n",
    "            if s+2 <= num_s-1:\n",
    "                next_score += beta[t+1,s+2]\n",
    "        return next_score * current_score\n",
    "    \n",
    "    for t in reversed(range(num_t)):\n",
    "        for s in reversed(range(num_s)):\n",
    "            beta[t,s] = backward(t,s)\n",
    "    \n",
    "    return alpha, beta\n",
    "\n",
    "def gradient(logits,label):\n",
    "    padded_label = pad_label(label)\n",
    "    alpha, beta = forward_backward(logits,label)\n",
    "    \n",
    "    pl_x = alpha[-1,-1]+alpha[-1,-2]\n",
    "    \n",
    "    gradients = np.zeros_like(logits)\n",
    "    \n",
    "    # equation 15\n",
    "    for t in range(logits.shape[0]):\n",
    "        for k in range(logits.shape[1]):\n",
    "            lab_lk = [i for i in range(len(padded_label)) if padded_label[i] == vocab[k]]\n",
    "            dp_dytk = 0.\n",
    "            for s in lab_lk:\n",
    "                dp_dytk += alpha[t,s]*beta[t,s]\n",
    "            dp_dytk /= logits[t,k]**2\n",
    "            dlnp_dytk = dp_dytk / pl_x\n",
    "            gradients[t,k] = dlnp_dytk\n",
    "    return gradients"
   ]
  },
  {
   "cell_type": "code",
   "execution_count": 11,
   "id": "17b3a935",
   "metadata": {},
   "outputs": [
    {
     "data": {
      "text/plain": [
       "array([[ 1.27076965,  0.        ,  0.        ,  1.24739504],\n",
       "       [ 0.57680003,  0.        , -0.03111668,  0.18886964],\n",
       "       [-0.65993026,  0.        , -0.39989117, -0.44861845],\n",
       "       [ 1.3546767 ,  0.        , -0.52285446,  2.27432676],\n",
       "       [-0.04480657,  0.        , -0.10440541, -0.94815617],\n",
       "       [ 0.39371001,  0.        , -0.25641427, -1.20272788],\n",
       "       [-1.02922122,  0.        ,  0.00347259,  1.13283891],\n",
       "       [-0.92080778,  0.        , -0.04519529, -1.3991668 ],\n",
       "       [-2.05502753,  0.        ,  0.13602776, -0.56164666],\n",
       "       [ 0.        ,  0.        , -1.53525176, -0.25118004]])"
      ]
     },
     "execution_count": 11,
     "metadata": {},
     "output_type": "execute_result"
    }
   ],
   "source": [
    "gradient(logits,label)"
   ]
  }
 ],
 "metadata": {
  "kernelspec": {
   "display_name": "Python 3",
   "language": "python",
   "name": "python3"
  },
  "language_info": {
   "codemirror_mode": {
    "name": "ipython",
    "version": 3
   },
   "file_extension": ".py",
   "mimetype": "text/x-python",
   "name": "python",
   "nbconvert_exporter": "python",
   "pygments_lexer": "ipython3",
   "version": "3.9.7"
  }
 },
 "nbformat": 4,
 "nbformat_minor": 5
}
